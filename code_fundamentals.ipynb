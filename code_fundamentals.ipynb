{
 "cells": [
  {
   "cell_type": "code",
   "execution_count": null,
   "id": "4479305c",
   "metadata": {},
   "outputs": [],
   "source": [
    "#password validation\n",
    "def passval_function(password):\n",
    "    hasLower = False\n",
    "    hasUpper = False\n",
    "    hasDigit = False\n",
    "    specialChar = False\n",
    "    normalChars = \"abcdefghijklmnopqrstuvwxyzABCDEFGHIJKLMNOPQRSTUVWXYZ1234567890 \"\n",
    "    n=len(password)\n",
    "\n",
    "    for i in range(n):\n",
    "        if password[i].islower():\n",
    "            hasLower = True\n",
    "        if password[i].isupper():\n",
    "            hasUpper = True\n",
    "        if password[i].isdigit():\n",
    "            hasDigit = True\n",
    "        if password[i] not in normalChars:\n",
    "            specialChar = True\n",
    "    if (hasLower and hasUpper and\n",
    "            hasDigit and specialChar and n >= 8):\n",
    "            print(\"password is valid\")\n",
    "    else:\n",
    "        print(\"not valid\")\n",
    "\n",
    "        \n",
    "password=input()\n",
    "passval_function(password)\n"
   ]
  },
  {
   "cell_type": "code",
   "execution_count": null,
   "id": "7e73e2dc",
   "metadata": {},
   "outputs": [],
   "source": []
  },
  {
   "cell_type": "code",
   "execution_count": null,
   "id": "ad65ef35",
   "metadata": {},
   "outputs": [],
   "source": []
  },
  {
   "cell_type": "code",
   "execution_count": null,
   "id": "35412e96",
   "metadata": {},
   "outputs": [],
   "source": [
    " \n",
    "def fibonacci(n):\n",
    "    a = 0\n",
    "    b = 1\n",
    "    if n < 0:\n",
    "        print(\"Incorrect input\")\n",
    "    elif n == 0:\n",
    "        return 0\n",
    "    elif n == 1:\n",
    "        return b\n",
    "    else:\n",
    "        for i in range(1, n):\n",
    "            c = a + b\n",
    "            a = b\n",
    "            b = c\n",
    "        return b\n",
    "print(fibonacci(10))"
   ]
  },
  {
   "cell_type": "code",
   "execution_count": null,
   "id": "0c0ff4e3",
   "metadata": {},
   "outputs": [],
   "source": [
    "def power(N, P):\n",
    "    if P == 0:\n",
    "        return(1) \n",
    "    if P==1:\n",
    "        return N\n",
    "    x=power(N, P-1)\n",
    "    print(x)\n",
    "    return N*x\n",
    "power(2,10)"
   ]
  },
  {
   "cell_type": "code",
   "execution_count": null,
   "id": "95f26cfb",
   "metadata": {},
   "outputs": [],
   "source": [
    "[x for x in range(0,101,2)]"
   ]
  },
  {
   "cell_type": "code",
   "execution_count": null,
   "id": "5ccc6f24",
   "metadata": {},
   "outputs": [],
   "source": [
    "str=\"Anamika\"\n",
    "str[::-1]"
   ]
  },
  {
   "cell_type": "code",
   "execution_count": null,
   "id": "dbb9b20d",
   "metadata": {},
   "outputs": [],
   "source": [
    "def ranm(n):\n",
    "    for i in range(0,n+1):\n",
    "        if i%2==0 or i%3==0 or i%5==0:\n",
    "            print(i,end=\" \")\n",
    "ranm(10)"
   ]
  },
  {
   "cell_type": "code",
   "execution_count": null,
   "id": "6c1a937b",
   "metadata": {},
   "outputs": [],
   "source": [
    "list1=[1,2,2,2,3]\n",
    "set(list1)"
   ]
  },
  {
   "cell_type": "code",
   "execution_count": null,
   "id": "71dc8c94",
   "metadata": {},
   "outputs": [],
   "source": [
    "def remn(ls):\n",
    "    for charac in ls:\n",
    "        if len(charac)==0:\n",
    "            ls.remove(charac)\n",
    "    print(ls)"
   ]
  },
  {
   "cell_type": "code",
   "execution_count": null,
   "id": "4eacf7a6",
   "metadata": {},
   "outputs": [],
   "source": [
    "ls=['a','b',\"\"]\n",
    "remn(ls)"
   ]
  },
  {
   "cell_type": "code",
   "execution_count": null,
   "id": "546eb134",
   "metadata": {},
   "outputs": [],
   "source": [
    "ls1=[1,2,3,4,5,6]\n",
    "ls2=[2,3,4,5,6,7]\n",
    "ls1[0::2]+ls2[1::2]"
   ]
  },
  {
   "cell_type": "code",
   "execution_count": null,
   "id": "52cc6cb7",
   "metadata": {},
   "outputs": [],
   "source": []
  },
  {
   "cell_type": "code",
   "execution_count": null,
   "id": "e5d64dac",
   "metadata": {},
   "outputs": [],
   "source": []
  },
  {
   "cell_type": "code",
   "execution_count": null,
   "id": "6989026b",
   "metadata": {},
   "outputs": [],
   "source": [
    "ls1=[1,2,3,3,4,5,6]\n",
    "[num**2 for num in ls1]\n"
   ]
  },
  {
   "cell_type": "code",
   "execution_count": null,
   "id": "d089f71f",
   "metadata": {},
   "outputs": [],
   "source": [
    "lst1=[1,2,2,3,4,4,4]\n",
    "dict={}\n",
    "for num in lst1:\n",
    "    if num in dict:\n",
    "        dict[num]+=1\n",
    "    else:\n",
    "        dict[num]=1\n",
    "print(dict)\n",
    "    "
   ]
  },
  {
   "cell_type": "code",
   "execution_count": null,
   "id": "19a4b889",
   "metadata": {},
   "outputs": [],
   "source": [
    "m1=set(lst1)\n",
    "m2=tuple(m1)\n",
    "print(max(m2),min(m2))"
   ]
  },
  {
   "cell_type": "code",
   "execution_count": null,
   "id": "3fbfefd0",
   "metadata": {},
   "outputs": [],
   "source": []
  },
  {
   "cell_type": "code",
   "execution_count": null,
   "id": "2accef85",
   "metadata": {},
   "outputs": [],
   "source": [
    "n = 5\n",
    "fact = 1\n",
    " \n",
    "for i in range(1, n+1):\n",
    "    fact = fact * i\n",
    "\n",
    "print(fact)"
   ]
  },
  {
   "cell_type": "code",
   "execution_count": null,
   "id": "d2315652",
   "metadata": {},
   "outputs": [],
   "source": [
    "pip install pandas"
   ]
  },
  {
   "cell_type": "code",
   "execution_count": null,
   "id": "18a64433",
   "metadata": {},
   "outputs": [],
   "source": [
    "import pandas as pd"
   ]
  },
  {
   "cell_type": "code",
   "execution_count": null,
   "id": "2389568e",
   "metadata": {},
   "outputs": [],
   "source": [
    "df=pd.read_csv(\"C:/Users/anamikmishra/Downloads/imports-85.data\",header=None,na_values=[\"?\"])"
   ]
  },
  {
   "cell_type": "code",
   "execution_count": null,
   "id": "b6e3d160",
   "metadata": {},
   "outputs": [],
   "source": [
    "df.head()"
   ]
  },
  {
   "cell_type": "code",
   "execution_count": null,
   "id": "11eedccb",
   "metadata": {},
   "outputs": [],
   "source": [
    "df.shape"
   ]
  },
  {
   "cell_type": "code",
   "execution_count": null,
   "id": "118dce69",
   "metadata": {},
   "outputs": [],
   "source": [
    "df.info()"
   ]
  },
  {
   "cell_type": "code",
   "execution_count": null,
   "id": "0e97e8e6",
   "metadata": {},
   "outputs": [],
   "source": [
    "df.describe()"
   ]
  },
  {
   "cell_type": "code",
   "execution_count": null,
   "id": "a2c2ad92",
   "metadata": {},
   "outputs": [],
   "source": [
    "df.isnull().sum()"
   ]
  },
  {
   "cell_type": "code",
   "execution_count": null,
   "id": "572fbdfa",
   "metadata": {},
   "outputs": [],
   "source": [
    "df.columns=[\"symboling\",\"normalized-losses\",\"make\",\"fuel-type\",\"aspiration\",\"num-of-doors\",\"body-style\",\"drive-wheels\",\"engine-location\",\"wheel-base\",\"length\",\"width\",\"height\",\"curb-weight\",\"engine-type\",\"num-of-cylinders\",\"engine-size\",\"fuel-system\",\"bore\",\"stroke\",\"compression-ratio\",\"horsepower\",\"peak-rpm\",\"city-mpg\",\"highway-mpg\",\"price\"]"
   ]
  },
  {
   "cell_type": "code",
   "execution_count": null,
   "id": "6db151cf",
   "metadata": {},
   "outputs": [],
   "source": [
    "df[\"num-of-doors\"].value_counts()"
   ]
  },
  {
   "cell_type": "code",
   "execution_count": null,
   "id": "4eee563d",
   "metadata": {},
   "outputs": [],
   "source": [
    "df_removal=df.drop(\"normalized-losses\",axis=1)"
   ]
  },
  {
   "cell_type": "code",
   "execution_count": null,
   "id": "8ef0414d",
   "metadata": {},
   "outputs": [],
   "source": [
    "df_removal.dropna(axis=0,inplace=True)"
   ]
  },
  {
   "cell_type": "code",
   "execution_count": null,
   "id": "5d9f4109",
   "metadata": {},
   "outputs": [],
   "source": [
    "df_removal.head()"
   ]
  },
  {
   "cell_type": "code",
   "execution_count": null,
   "id": "31965cf5",
   "metadata": {},
   "outputs": [],
   "source": [
    "df_removal.sort_values(by=\"price\",ascending=False)"
   ]
  },
  {
   "cell_type": "code",
   "execution_count": null,
   "id": "c4d3ba7a",
   "metadata": {},
   "outputs": [],
   "source": [
    "df_removal.groupby(\"make\").get_group(\"bmw\")"
   ]
  },
  {
   "cell_type": "code",
   "execution_count": null,
   "id": "a5e70275",
   "metadata": {},
   "outputs": [],
   "source": [
    "df_removal['make'].value_counts()"
   ]
  },
  {
   "cell_type": "code",
   "execution_count": null,
   "id": "330b7ad8",
   "metadata": {},
   "outputs": [],
   "source": [
    "df.groupby(\"make\")[\"horsepower\",\"wheel-base\"].max()"
   ]
  },
  {
   "cell_type": "code",
   "execution_count": null,
   "id": "ca849a85",
   "metadata": {},
   "outputs": [],
   "source": [
    "df_removal.corr()"
   ]
  },
  {
   "cell_type": "code",
   "execution_count": null,
   "id": "b1592087",
   "metadata": {},
   "outputs": [],
   "source": [
    "df_removal[df_removal[\"city-mpg\"]>df_removal[\"city-mpg\"].mean()]"
   ]
  },
  {
   "cell_type": "code",
   "execution_count": null,
   "id": "bc8c03e1",
   "metadata": {},
   "outputs": [],
   "source": [
    "df_removal.filter([])"
   ]
  },
  {
   "cell_type": "code",
   "execution_count": 26,
   "id": "42b10abf",
   "metadata": {},
   "outputs": [
    {
     "name": "stdout",
     "output_type": "stream",
     "text": [
      "Requirement already satisfied: seaborn in c:\\users\\anamikmishra\\anaconda3\\lib\\site-packages (0.11.2)\n",
      "Requirement already satisfied: matplotlib>=2.2 in c:\\users\\anamikmishra\\anaconda3\\lib\\site-packages (from seaborn) (3.5.2)\n",
      "Requirement already satisfied: pandas>=0.23 in c:\\users\\anamikmishra\\anaconda3\\lib\\site-packages (from seaborn) (1.4.4)\n",
      "Requirement already satisfied: scipy>=1.0 in c:\\users\\anamikmishra\\anaconda3\\lib\\site-packages (from seaborn) (1.9.1)\n",
      "Requirement already satisfied: numpy>=1.15 in c:\\users\\anamikmishra\\anaconda3\\lib\\site-packages (from seaborn) (1.21.5)\n",
      "Requirement already satisfied: pyparsing>=2.2.1 in c:\\users\\anamikmishra\\anaconda3\\lib\\site-packages (from matplotlib>=2.2->seaborn) (3.0.9)\n",
      "Requirement already satisfied: cycler>=0.10 in c:\\users\\anamikmishra\\anaconda3\\lib\\site-packages (from matplotlib>=2.2->seaborn) (0.11.0)\n",
      "Requirement already satisfied: packaging>=20.0 in c:\\users\\anamikmishra\\anaconda3\\lib\\site-packages (from matplotlib>=2.2->seaborn) (21.3)\n",
      "Requirement already satisfied: pillow>=6.2.0 in c:\\users\\anamikmishra\\anaconda3\\lib\\site-packages (from matplotlib>=2.2->seaborn) (9.2.0)\n",
      "Requirement already satisfied: fonttools>=4.22.0 in c:\\users\\anamikmishra\\anaconda3\\lib\\site-packages (from matplotlib>=2.2->seaborn) (4.25.0)\n",
      "Requirement already satisfied: python-dateutil>=2.7 in c:\\users\\anamikmishra\\anaconda3\\lib\\site-packages (from matplotlib>=2.2->seaborn) (2.8.2)\n",
      "Requirement already satisfied: kiwisolver>=1.0.1 in c:\\users\\anamikmishra\\anaconda3\\lib\\site-packages (from matplotlib>=2.2->seaborn) (1.4.2)\n",
      "Requirement already satisfied: pytz>=2020.1 in c:\\users\\anamikmishra\\anaconda3\\lib\\site-packages (from pandas>=0.23->seaborn) (2022.1)\n",
      "Requirement already satisfied: six>=1.5 in c:\\users\\anamikmishra\\anaconda3\\lib\\site-packages (from python-dateutil>=2.7->matplotlib>=2.2->seaborn) (1.16.0)\n",
      "Note: you may need to restart the kernel to use updated packages.\n"
     ]
    }
   ],
   "source": [
    "pip install seaborn"
   ]
  },
  {
   "cell_type": "code",
   "execution_count": 27,
   "id": "2f4d90e0",
   "metadata": {},
   "outputs": [
    {
     "name": "stdout",
     "output_type": "stream",
     "text": [
      "Requirement already satisfied: matplotlib in c:\\users\\anamikmishra\\anaconda3\\lib\\site-packages (3.5.2)\n",
      "Requirement already satisfied: fonttools>=4.22.0 in c:\\users\\anamikmishra\\anaconda3\\lib\\site-packages (from matplotlib) (4.25.0)\n",
      "Requirement already satisfied: numpy>=1.17 in c:\\users\\anamikmishra\\anaconda3\\lib\\site-packages (from matplotlib) (1.21.5)\n",
      "Requirement already satisfied: pyparsing>=2.2.1 in c:\\users\\anamikmishra\\anaconda3\\lib\\site-packages (from matplotlib) (3.0.9)\n",
      "Requirement already satisfied: packaging>=20.0 in c:\\users\\anamikmishra\\anaconda3\\lib\\site-packages (from matplotlib) (21.3)\n",
      "Requirement already satisfied: pillow>=6.2.0 in c:\\users\\anamikmishra\\anaconda3\\lib\\site-packages (from matplotlib) (9.2.0)\n",
      "Requirement already satisfied: python-dateutil>=2.7 in c:\\users\\anamikmishra\\anaconda3\\lib\\site-packages (from matplotlib) (2.8.2)\n",
      "Requirement already satisfied: kiwisolver>=1.0.1 in c:\\users\\anamikmishra\\anaconda3\\lib\\site-packages (from matplotlib) (1.4.2)\n",
      "Requirement already satisfied: cycler>=0.10 in c:\\users\\anamikmishra\\anaconda3\\lib\\site-packages (from matplotlib) (0.11.0)\n",
      "Requirement already satisfied: six>=1.5 in c:\\users\\anamikmishra\\anaconda3\\lib\\site-packages (from python-dateutil>=2.7->matplotlib) (1.16.0)\n",
      "Note: you may need to restart the kernel to use updated packages.\n"
     ]
    }
   ],
   "source": [
    "pip install matplotlib"
   ]
  },
  {
   "cell_type": "code",
   "execution_count": null,
   "id": "0c8d4f91",
   "metadata": {},
   "outputs": [],
   "source": []
  },
  {
   "cell_type": "code",
   "execution_count": null,
   "id": "26221258",
   "metadata": {},
   "outputs": [],
   "source": []
  },
  {
   "cell_type": "markdown",
   "id": "940377ad",
   "metadata": {},
   "source": [
    "# DAY 2"
   ]
  },
  {
   "cell_type": "code",
   "execution_count": null,
   "id": "9775ab88",
   "metadata": {},
   "outputs": [],
   "source": [
    "import pandas as pd"
   ]
  },
  {
   "cell_type": "code",
   "execution_count": null,
   "id": "7716b85a",
   "metadata": {},
   "outputs": [],
   "source": []
  },
  {
   "cell_type": "code",
   "execution_count": null,
   "id": "9689790b",
   "metadata": {},
   "outputs": [],
   "source": [
    "df=pd.read_csv(\"C:/Users/anamikmishra/Downloads/adult.data\",header=None)"
   ]
  },
  {
   "cell_type": "code",
   "execution_count": null,
   "id": "2623926e",
   "metadata": {},
   "outputs": [],
   "source": [
    "df.head()"
   ]
  },
  {
   "cell_type": "code",
   "execution_count": null,
   "id": "002ac108",
   "metadata": {},
   "outputs": [],
   "source": [
    "df.isnull().sum()"
   ]
  },
  {
   "cell_type": "code",
   "execution_count": null,
   "id": "0f3e7a51",
   "metadata": {},
   "outputs": [],
   "source": [
    "df.shape"
   ]
  },
  {
   "cell_type": "code",
   "execution_count": null,
   "id": "ceafe80e",
   "metadata": {},
   "outputs": [],
   "source": [
    "df.info()"
   ]
  },
  {
   "cell_type": "code",
   "execution_count": null,
   "id": "9a4b1772",
   "metadata": {},
   "outputs": [],
   "source": [
    "df.columns=[\"age\",\"workclass\",\"fnlwgt\",\"education\",\"education-num\",\"marital-status\",\"occupation\",\"relationship\",\"race\",\"sex\",\"capital-gain\",\"capital-loss\",\"hours-per-week\",\"native-country\",\"Listing of attributes\"]"
   ]
  },
  {
   "cell_type": "code",
   "execution_count": null,
   "id": "a0767126",
   "metadata": {},
   "outputs": [],
   "source": [
    "df.head()"
   ]
  },
  {
   "cell_type": "code",
   "execution_count": null,
   "id": "c55e256e",
   "metadata": {},
   "outputs": [],
   "source": [
    "df[\"sex\"].value_counts()"
   ]
  },
  {
   "cell_type": "code",
   "execution_count": null,
   "id": "dd50326c",
   "metadata": {},
   "outputs": [],
   "source": []
  },
  {
   "cell_type": "markdown",
   "id": "dab98e85",
   "metadata": {},
   "source": [
    "# no of females earning more than 50k and less than 50k"
   ]
  },
  {
   "cell_type": "code",
   "execution_count": null,
   "id": "889692e1",
   "metadata": {},
   "outputs": [],
   "source": [
    "female=df.groupby(\"sex\").get_group(' Female')"
   ]
  },
  {
   "cell_type": "code",
   "execution_count": null,
   "id": "8c7642d8",
   "metadata": {},
   "outputs": [],
   "source": [
    "female.head()"
   ]
  },
  {
   "cell_type": "code",
   "execution_count": null,
   "id": "53756e3b",
   "metadata": {},
   "outputs": [],
   "source": [
    "female[\"Listing of attributes\"].value_counts()"
   ]
  },
  {
   "cell_type": "markdown",
   "id": "b3cf8da1",
   "metadata": {},
   "source": [
    "#  women empowered country"
   ]
  },
  {
   "cell_type": "code",
   "execution_count": null,
   "id": "7b12d8fd",
   "metadata": {},
   "outputs": [],
   "source": [
    "df[\"Listing of attributes\"].unique()"
   ]
  },
  {
   "cell_type": "code",
   "execution_count": null,
   "id": "877858bd",
   "metadata": {},
   "outputs": [],
   "source": [
    "df[\"sex\"].unique()"
   ]
  },
  {
   "cell_type": "code",
   "execution_count": null,
   "id": "c25b47f4",
   "metadata": {},
   "outputs": [],
   "source": [
    "bach=df.groupby(\"sex\").get_group(' Female')"
   ]
  },
  {
   "cell_type": "code",
   "execution_count": null,
   "id": "bffe4a57",
   "metadata": {},
   "outputs": [],
   "source": [
    "new=bach.groupby(\"native-country\")"
   ]
  },
  {
   "cell_type": "code",
   "execution_count": null,
   "id": "35f7a812",
   "metadata": {},
   "outputs": [],
   "source": [
    "new[\"Listing of attributes\"].value_counts()"
   ]
  },
  {
   "cell_type": "code",
   "execution_count": null,
   "id": "8811394e",
   "metadata": {},
   "outputs": [],
   "source": [
    "df.corr()"
   ]
  },
  {
   "cell_type": "code",
   "execution_count": null,
   "id": "b8056bb4",
   "metadata": {},
   "outputs": [],
   "source": []
  },
  {
   "cell_type": "code",
   "execution_count": null,
   "id": "cf389965",
   "metadata": {},
   "outputs": [],
   "source": [
    "df[\"education\"].unique()"
   ]
  },
  {
   "cell_type": "code",
   "execution_count": null,
   "id": "1cec07aa",
   "metadata": {},
   "outputs": [],
   "source": [
    "ms=df.groupby(\"marital-status\")"
   ]
  },
  {
   "cell_type": "code",
   "execution_count": null,
   "id": "09a718e8",
   "metadata": {},
   "outputs": [],
   "source": [
    "ms[\"Listing of attributes\"].value_counts()"
   ]
  },
  {
   "cell_type": "code",
   "execution_count": null,
   "id": "4c08da6a",
   "metadata": {},
   "outputs": [],
   "source": [
    "ms.groupby(\"hours-per-week\")"
   ]
  },
  {
   "cell_type": "code",
   "execution_count": null,
   "id": "7d7098f4",
   "metadata": {},
   "outputs": [],
   "source": [
    "df[\"race\"].unique()"
   ]
  },
  {
   "cell_type": "markdown",
   "id": "a6ca64d5",
   "metadata": {},
   "source": [
    "# countries supporting black lives"
   ]
  },
  {
   "cell_type": "code",
   "execution_count": null,
   "id": "732b9e99",
   "metadata": {},
   "outputs": [],
   "source": [
    "rac=df.groupby(\"race\").get_group(' Black')"
   ]
  },
  {
   "cell_type": "code",
   "execution_count": null,
   "id": "9bec76f8",
   "metadata": {},
   "outputs": [],
   "source": [
    "rac_c=rac.groupby(\"native-country\")"
   ]
  },
  {
   "cell_type": "code",
   "execution_count": null,
   "id": "fb56954c",
   "metadata": {},
   "outputs": [],
   "source": [
    "rac_c[\"Listing of attributes\"].value_counts()"
   ]
  },
  {
   "cell_type": "code",
   "execution_count": null,
   "id": "e919ff74",
   "metadata": {},
   "outputs": [],
   "source": [
    "ct=df.groupby(\"native-country\")"
   ]
  },
  {
   "cell_type": "code",
   "execution_count": null,
   "id": "6a73da41",
   "metadata": {},
   "outputs": [],
   "source": [
    "ct[\"capital-gain\"].sum()"
   ]
  },
  {
   "cell_type": "code",
   "execution_count": null,
   "id": "cbfefa4f",
   "metadata": {},
   "outputs": [],
   "source": []
  },
  {
   "cell_type": "markdown",
   "id": "56654ebd",
   "metadata": {},
   "source": [
    "# new dataset"
   ]
  },
  {
   "cell_type": "code",
   "execution_count": 2,
   "id": "0139c425",
   "metadata": {},
   "outputs": [],
   "source": [
    "import pandas as pd\n",
    "df=pd.read_csv(\"C:/Users/anamikmishra/Downloads/tech_layoffs.csv\",na_values=[\"Unclear\"])\n"
   ]
  },
  {
   "cell_type": "code",
   "execution_count": null,
   "id": "017794f5",
   "metadata": {},
   "outputs": [],
   "source": []
  },
  {
   "cell_type": "markdown",
   "id": "5a2a034a",
   "metadata": {},
   "source": []
  },
  {
   "cell_type": "code",
   "execution_count": null,
   "id": "28e67105",
   "metadata": {},
   "outputs": [],
   "source": []
  },
  {
   "cell_type": "code",
   "execution_count": 3,
   "id": "0642a25b",
   "metadata": {},
   "outputs": [
    {
     "data": {
      "text/html": [
       "<div>\n",
       "<style scoped>\n",
       "    .dataframe tbody tr th:only-of-type {\n",
       "        vertical-align: middle;\n",
       "    }\n",
       "\n",
       "    .dataframe tbody tr th {\n",
       "        vertical-align: top;\n",
       "    }\n",
       "\n",
       "    .dataframe thead th {\n",
       "        text-align: right;\n",
       "    }\n",
       "</style>\n",
       "<table border=\"1\" class=\"dataframe\">\n",
       "  <thead>\n",
       "    <tr style=\"text-align: right;\">\n",
       "      <th></th>\n",
       "      <th>company</th>\n",
       "      <th>total_layoffs</th>\n",
       "      <th>impacted_workforce_percentage</th>\n",
       "      <th>reported_date</th>\n",
       "      <th>industry</th>\n",
       "      <th>headquarter_location</th>\n",
       "      <th>sources</th>\n",
       "      <th>status</th>\n",
       "      <th>additional_notes</th>\n",
       "    </tr>\n",
       "  </thead>\n",
       "  <tbody>\n",
       "    <tr>\n",
       "      <th>0</th>\n",
       "      <td>C2FO</td>\n",
       "      <td>20.0</td>\n",
       "      <td>2.0</td>\n",
       "      <td>12/9/2022</td>\n",
       "      <td>Fintech, payments</td>\n",
       "      <td>Leawood, KS</td>\n",
       "      <td>Kansas City Business Journal</td>\n",
       "      <td>Private</td>\n",
       "      <td>NaN</td>\n",
       "    </tr>\n",
       "    <tr>\n",
       "      <th>1</th>\n",
       "      <td>VideoAmp</td>\n",
       "      <td>NaN</td>\n",
       "      <td>2.0</td>\n",
       "      <td>9/19/2022</td>\n",
       "      <td>Advertising platforms</td>\n",
       "      <td>Los Angeles</td>\n",
       "      <td>Company memo</td>\n",
       "      <td>Private</td>\n",
       "      <td>NaN</td>\n",
       "    </tr>\n",
       "    <tr>\n",
       "      <th>2</th>\n",
       "      <td>Amperity</td>\n",
       "      <td>13.0</td>\n",
       "      <td>3.0</td>\n",
       "      <td>8/20/2022</td>\n",
       "      <td>Saas, analytics</td>\n",
       "      <td>Seattle</td>\n",
       "      <td>Geekwire</td>\n",
       "      <td>Private</td>\n",
       "      <td>NaN</td>\n",
       "    </tr>\n",
       "    <tr>\n",
       "      <th>3</th>\n",
       "      <td>Addepar</td>\n",
       "      <td>20.0</td>\n",
       "      <td>3.0</td>\n",
       "      <td>1/18/2023</td>\n",
       "      <td>fintech, data analytics</td>\n",
       "      <td>Mountain View, CA</td>\n",
       "      <td>Fortune</td>\n",
       "      <td>Private</td>\n",
       "      <td>NaN</td>\n",
       "    </tr>\n",
       "    <tr>\n",
       "      <th>4</th>\n",
       "      <td>Thirty Madison</td>\n",
       "      <td>24.0</td>\n",
       "      <td>3.0</td>\n",
       "      <td>5/13/2022</td>\n",
       "      <td>Health Care</td>\n",
       "      <td>New York</td>\n",
       "      <td>Axios</td>\n",
       "      <td>Private</td>\n",
       "      <td>Per Axios, 22 of the employees laid off were f...</td>\n",
       "    </tr>\n",
       "  </tbody>\n",
       "</table>\n",
       "</div>"
      ],
      "text/plain": [
       "          company  total_layoffs  impacted_workforce_percentage reported_date  \\\n",
       "0            C2FO           20.0                            2.0     12/9/2022   \n",
       "1        VideoAmp            NaN                            2.0     9/19/2022   \n",
       "2        Amperity           13.0                            3.0     8/20/2022   \n",
       "3         Addepar           20.0                            3.0     1/18/2023   \n",
       "4  Thirty Madison           24.0                            3.0     5/13/2022   \n",
       "\n",
       "                  industry headquarter_location                       sources  \\\n",
       "0        Fintech, payments          Leawood, KS  Kansas City Business Journal   \n",
       "1    Advertising platforms          Los Angeles                  Company memo   \n",
       "2          Saas, analytics              Seattle                      Geekwire   \n",
       "3  fintech, data analytics    Mountain View, CA                       Fortune   \n",
       "4              Health Care             New York                         Axios   \n",
       "\n",
       "    status                                   additional_notes  \n",
       "0  Private                                                NaN  \n",
       "1  Private                                                NaN  \n",
       "2  Private                                                NaN  \n",
       "3  Private                                                NaN  \n",
       "4  Private  Per Axios, 22 of the employees laid off were f...  "
      ]
     },
     "execution_count": 3,
     "metadata": {},
     "output_type": "execute_result"
    }
   ],
   "source": [
    "df.head()"
   ]
  },
  {
   "cell_type": "code",
   "execution_count": 4,
   "id": "44d2468b",
   "metadata": {},
   "outputs": [
    {
     "data": {
      "text/plain": [
       "company                            0\n",
       "total_layoffs                    182\n",
       "impacted_workforce_percentage    133\n",
       "reported_date                      0\n",
       "industry                           0\n",
       "headquarter_location               0\n",
       "sources                            0\n",
       "status                             0\n",
       "additional_notes                 467\n",
       "dtype: int64"
      ]
     },
     "execution_count": 4,
     "metadata": {},
     "output_type": "execute_result"
    }
   ],
   "source": [
    "df.isnull().sum()"
   ]
  },
  {
   "cell_type": "code",
   "execution_count": 5,
   "id": "af77e6e9",
   "metadata": {},
   "outputs": [],
   "source": [
    "df.drop(\"additional_notes\",inplace=True,axis=1)"
   ]
  },
  {
   "cell_type": "code",
   "execution_count": 6,
   "id": "fcd13651",
   "metadata": {},
   "outputs": [
    {
     "data": {
      "text/html": [
       "<div>\n",
       "<style scoped>\n",
       "    .dataframe tbody tr th:only-of-type {\n",
       "        vertical-align: middle;\n",
       "    }\n",
       "\n",
       "    .dataframe tbody tr th {\n",
       "        vertical-align: top;\n",
       "    }\n",
       "\n",
       "    .dataframe thead th {\n",
       "        text-align: right;\n",
       "    }\n",
       "</style>\n",
       "<table border=\"1\" class=\"dataframe\">\n",
       "  <thead>\n",
       "    <tr style=\"text-align: right;\">\n",
       "      <th></th>\n",
       "      <th>company</th>\n",
       "      <th>total_layoffs</th>\n",
       "      <th>impacted_workforce_percentage</th>\n",
       "      <th>reported_date</th>\n",
       "      <th>industry</th>\n",
       "      <th>headquarter_location</th>\n",
       "      <th>sources</th>\n",
       "      <th>status</th>\n",
       "    </tr>\n",
       "  </thead>\n",
       "  <tbody>\n",
       "    <tr>\n",
       "      <th>0</th>\n",
       "      <td>C2FO</td>\n",
       "      <td>20.0</td>\n",
       "      <td>2.0</td>\n",
       "      <td>12/9/2022</td>\n",
       "      <td>Fintech, payments</td>\n",
       "      <td>Leawood, KS</td>\n",
       "      <td>Kansas City Business Journal</td>\n",
       "      <td>Private</td>\n",
       "    </tr>\n",
       "    <tr>\n",
       "      <th>1</th>\n",
       "      <td>VideoAmp</td>\n",
       "      <td>NaN</td>\n",
       "      <td>2.0</td>\n",
       "      <td>9/19/2022</td>\n",
       "      <td>Advertising platforms</td>\n",
       "      <td>Los Angeles</td>\n",
       "      <td>Company memo</td>\n",
       "      <td>Private</td>\n",
       "    </tr>\n",
       "    <tr>\n",
       "      <th>2</th>\n",
       "      <td>Amperity</td>\n",
       "      <td>13.0</td>\n",
       "      <td>3.0</td>\n",
       "      <td>8/20/2022</td>\n",
       "      <td>Saas, analytics</td>\n",
       "      <td>Seattle</td>\n",
       "      <td>Geekwire</td>\n",
       "      <td>Private</td>\n",
       "    </tr>\n",
       "    <tr>\n",
       "      <th>3</th>\n",
       "      <td>Addepar</td>\n",
       "      <td>20.0</td>\n",
       "      <td>3.0</td>\n",
       "      <td>1/18/2023</td>\n",
       "      <td>fintech, data analytics</td>\n",
       "      <td>Mountain View, CA</td>\n",
       "      <td>Fortune</td>\n",
       "      <td>Private</td>\n",
       "    </tr>\n",
       "    <tr>\n",
       "      <th>4</th>\n",
       "      <td>Thirty Madison</td>\n",
       "      <td>24.0</td>\n",
       "      <td>3.0</td>\n",
       "      <td>5/13/2022</td>\n",
       "      <td>Health Care</td>\n",
       "      <td>New York</td>\n",
       "      <td>Axios</td>\n",
       "      <td>Private</td>\n",
       "    </tr>\n",
       "  </tbody>\n",
       "</table>\n",
       "</div>"
      ],
      "text/plain": [
       "          company  total_layoffs  impacted_workforce_percentage reported_date  \\\n",
       "0            C2FO           20.0                            2.0     12/9/2022   \n",
       "1        VideoAmp            NaN                            2.0     9/19/2022   \n",
       "2        Amperity           13.0                            3.0     8/20/2022   \n",
       "3         Addepar           20.0                            3.0     1/18/2023   \n",
       "4  Thirty Madison           24.0                            3.0     5/13/2022   \n",
       "\n",
       "                  industry headquarter_location                       sources  \\\n",
       "0        Fintech, payments          Leawood, KS  Kansas City Business Journal   \n",
       "1    Advertising platforms          Los Angeles                  Company memo   \n",
       "2          Saas, analytics              Seattle                      Geekwire   \n",
       "3  fintech, data analytics    Mountain View, CA                       Fortune   \n",
       "4              Health Care             New York                         Axios   \n",
       "\n",
       "    status  \n",
       "0  Private  \n",
       "1  Private  \n",
       "2  Private  \n",
       "3  Private  \n",
       "4  Private  "
      ]
     },
     "execution_count": 6,
     "metadata": {},
     "output_type": "execute_result"
    }
   ],
   "source": [
    "df.head()"
   ]
  },
  {
   "cell_type": "code",
   "execution_count": 7,
   "id": "2f2cd214",
   "metadata": {},
   "outputs": [
    {
     "name": "stdout",
     "output_type": "stream",
     "text": [
      "<class 'pandas.core.frame.DataFrame'>\n",
      "RangeIndex: 489 entries, 0 to 488\n",
      "Data columns (total 8 columns):\n",
      " #   Column                         Non-Null Count  Dtype  \n",
      "---  ------                         --------------  -----  \n",
      " 0   company                        489 non-null    object \n",
      " 1   total_layoffs                  307 non-null    float64\n",
      " 2   impacted_workforce_percentage  356 non-null    float64\n",
      " 3   reported_date                  489 non-null    object \n",
      " 4   industry                       489 non-null    object \n",
      " 5   headquarter_location           489 non-null    object \n",
      " 6   sources                        489 non-null    object \n",
      " 7   status                         489 non-null    object \n",
      "dtypes: float64(2), object(6)\n",
      "memory usage: 30.7+ KB\n"
     ]
    }
   ],
   "source": [
    "df.info()"
   ]
  },
  {
   "cell_type": "code",
   "execution_count": 8,
   "id": "83ef4749",
   "metadata": {},
   "outputs": [
    {
     "data": {
      "text/html": [
       "<div>\n",
       "<style scoped>\n",
       "    .dataframe tbody tr th:only-of-type {\n",
       "        vertical-align: middle;\n",
       "    }\n",
       "\n",
       "    .dataframe tbody tr th {\n",
       "        vertical-align: top;\n",
       "    }\n",
       "\n",
       "    .dataframe thead th {\n",
       "        text-align: right;\n",
       "    }\n",
       "</style>\n",
       "<table border=\"1\" class=\"dataframe\">\n",
       "  <thead>\n",
       "    <tr style=\"text-align: right;\">\n",
       "      <th></th>\n",
       "      <th>company</th>\n",
       "      <th>total_layoffs</th>\n",
       "      <th>impacted_workforce_percentage</th>\n",
       "      <th>reported_date</th>\n",
       "      <th>industry</th>\n",
       "      <th>headquarter_location</th>\n",
       "      <th>sources</th>\n",
       "      <th>status</th>\n",
       "    </tr>\n",
       "  </thead>\n",
       "  <tbody>\n",
       "  </tbody>\n",
       "</table>\n",
       "</div>"
      ],
      "text/plain": [
       "Empty DataFrame\n",
       "Columns: [company, total_layoffs, impacted_workforce_percentage, reported_date, industry, headquarter_location, sources, status]\n",
       "Index: []"
      ]
     },
     "execution_count": 8,
     "metadata": {},
     "output_type": "execute_result"
    }
   ],
   "source": [
    "df[df[\"total_layoffs\"]==\"Unclear\"]"
   ]
  },
  {
   "cell_type": "code",
   "execution_count": 9,
   "id": "a0d18251",
   "metadata": {},
   "outputs": [],
   "source": [
    "df.dropna(axis=0,inplace=True)"
   ]
  },
  {
   "cell_type": "code",
   "execution_count": 10,
   "id": "a16ffc4f",
   "metadata": {},
   "outputs": [
    {
     "data": {
      "text/html": [
       "<div>\n",
       "<style scoped>\n",
       "    .dataframe tbody tr th:only-of-type {\n",
       "        vertical-align: middle;\n",
       "    }\n",
       "\n",
       "    .dataframe tbody tr th {\n",
       "        vertical-align: top;\n",
       "    }\n",
       "\n",
       "    .dataframe thead th {\n",
       "        text-align: right;\n",
       "    }\n",
       "</style>\n",
       "<table border=\"1\" class=\"dataframe\">\n",
       "  <thead>\n",
       "    <tr style=\"text-align: right;\">\n",
       "      <th></th>\n",
       "      <th>company</th>\n",
       "      <th>total_layoffs</th>\n",
       "      <th>impacted_workforce_percentage</th>\n",
       "      <th>reported_date</th>\n",
       "      <th>industry</th>\n",
       "      <th>headquarter_location</th>\n",
       "      <th>sources</th>\n",
       "      <th>status</th>\n",
       "    </tr>\n",
       "  </thead>\n",
       "  <tbody>\n",
       "    <tr>\n",
       "      <th>0</th>\n",
       "      <td>C2FO</td>\n",
       "      <td>20.0</td>\n",
       "      <td>2.0</td>\n",
       "      <td>12/9/2022</td>\n",
       "      <td>Fintech, payments</td>\n",
       "      <td>Leawood, KS</td>\n",
       "      <td>Kansas City Business Journal</td>\n",
       "      <td>Private</td>\n",
       "    </tr>\n",
       "    <tr>\n",
       "      <th>2</th>\n",
       "      <td>Amperity</td>\n",
       "      <td>13.0</td>\n",
       "      <td>3.0</td>\n",
       "      <td>8/20/2022</td>\n",
       "      <td>Saas, analytics</td>\n",
       "      <td>Seattle</td>\n",
       "      <td>Geekwire</td>\n",
       "      <td>Private</td>\n",
       "    </tr>\n",
       "    <tr>\n",
       "      <th>3</th>\n",
       "      <td>Addepar</td>\n",
       "      <td>20.0</td>\n",
       "      <td>3.0</td>\n",
       "      <td>1/18/2023</td>\n",
       "      <td>fintech, data analytics</td>\n",
       "      <td>Mountain View, CA</td>\n",
       "      <td>Fortune</td>\n",
       "      <td>Private</td>\n",
       "    </tr>\n",
       "    <tr>\n",
       "      <th>4</th>\n",
       "      <td>Thirty Madison</td>\n",
       "      <td>24.0</td>\n",
       "      <td>3.0</td>\n",
       "      <td>5/13/2022</td>\n",
       "      <td>Health Care</td>\n",
       "      <td>New York</td>\n",
       "      <td>Axios</td>\n",
       "      <td>Private</td>\n",
       "    </tr>\n",
       "    <tr>\n",
       "      <th>6</th>\n",
       "      <td>Armis Security</td>\n",
       "      <td>25.0</td>\n",
       "      <td>4.0</td>\n",
       "      <td>12/8/2022</td>\n",
       "      <td>Cybersecurity</td>\n",
       "      <td>San Francisco</td>\n",
       "      <td>Calcalistech</td>\n",
       "      <td>Private</td>\n",
       "    </tr>\n",
       "  </tbody>\n",
       "</table>\n",
       "</div>"
      ],
      "text/plain": [
       "          company  total_layoffs  impacted_workforce_percentage reported_date  \\\n",
       "0            C2FO           20.0                            2.0     12/9/2022   \n",
       "2        Amperity           13.0                            3.0     8/20/2022   \n",
       "3         Addepar           20.0                            3.0     1/18/2023   \n",
       "4  Thirty Madison           24.0                            3.0     5/13/2022   \n",
       "6  Armis Security           25.0                            4.0     12/8/2022   \n",
       "\n",
       "                  industry headquarter_location                       sources  \\\n",
       "0        Fintech, payments          Leawood, KS  Kansas City Business Journal   \n",
       "2          Saas, analytics              Seattle                      Geekwire   \n",
       "3  fintech, data analytics    Mountain View, CA                       Fortune   \n",
       "4              Health Care             New York                         Axios   \n",
       "6            Cybersecurity        San Francisco                  Calcalistech   \n",
       "\n",
       "    status  \n",
       "0  Private  \n",
       "2  Private  \n",
       "3  Private  \n",
       "4  Private  \n",
       "6  Private  "
      ]
     },
     "execution_count": 10,
     "metadata": {},
     "output_type": "execute_result"
    }
   ],
   "source": [
    "df.head()"
   ]
  },
  {
   "cell_type": "code",
   "execution_count": 11,
   "id": "8ef6a0b9",
   "metadata": {},
   "outputs": [
    {
     "name": "stdout",
     "output_type": "stream",
     "text": [
      "<class 'pandas.core.frame.DataFrame'>\n",
      "Int64Index: 240 entries, 0 to 463\n",
      "Data columns (total 8 columns):\n",
      " #   Column                         Non-Null Count  Dtype  \n",
      "---  ------                         --------------  -----  \n",
      " 0   company                        240 non-null    object \n",
      " 1   total_layoffs                  240 non-null    float64\n",
      " 2   impacted_workforce_percentage  240 non-null    float64\n",
      " 3   reported_date                  240 non-null    object \n",
      " 4   industry                       240 non-null    object \n",
      " 5   headquarter_location           240 non-null    object \n",
      " 6   sources                        240 non-null    object \n",
      " 7   status                         240 non-null    object \n",
      "dtypes: float64(2), object(6)\n",
      "memory usage: 16.9+ KB\n"
     ]
    }
   ],
   "source": [
    "df.info()"
   ]
  },
  {
   "cell_type": "code",
   "execution_count": 12,
   "id": "3cf7bc7a",
   "metadata": {},
   "outputs": [
    {
     "data": {
      "text/html": [
       "<div>\n",
       "<style scoped>\n",
       "    .dataframe tbody tr th:only-of-type {\n",
       "        vertical-align: middle;\n",
       "    }\n",
       "\n",
       "    .dataframe tbody tr th {\n",
       "        vertical-align: top;\n",
       "    }\n",
       "\n",
       "    .dataframe thead th {\n",
       "        text-align: right;\n",
       "    }\n",
       "</style>\n",
       "<table border=\"1\" class=\"dataframe\">\n",
       "  <thead>\n",
       "    <tr style=\"text-align: right;\">\n",
       "      <th></th>\n",
       "      <th>total_layoffs</th>\n",
       "      <th>impacted_workforce_percentage</th>\n",
       "    </tr>\n",
       "  </thead>\n",
       "  <tbody>\n",
       "    <tr>\n",
       "      <th>total_layoffs</th>\n",
       "      <td>1.000000</td>\n",
       "      <td>0.008003</td>\n",
       "    </tr>\n",
       "    <tr>\n",
       "      <th>impacted_workforce_percentage</th>\n",
       "      <td>0.008003</td>\n",
       "      <td>1.000000</td>\n",
       "    </tr>\n",
       "  </tbody>\n",
       "</table>\n",
       "</div>"
      ],
      "text/plain": [
       "                               total_layoffs  impacted_workforce_percentage\n",
       "total_layoffs                       1.000000                       0.008003\n",
       "impacted_workforce_percentage       0.008003                       1.000000"
      ]
     },
     "execution_count": 12,
     "metadata": {},
     "output_type": "execute_result"
    }
   ],
   "source": [
    "df.corr()"
   ]
  },
  {
   "cell_type": "code",
   "execution_count": 13,
   "id": "e6abbca4",
   "metadata": {},
   "outputs": [
    {
     "name": "stdout",
     "output_type": "stream",
     "text": [
      "Requirement already satisfied: sklearn in c:\\users\\anamikmishra\\anaconda3\\lib\\site-packages (0.0.post1)\n",
      "Note: you may need to restart the kernel to use updated packages.\n"
     ]
    }
   ],
   "source": [
    "pip install sklearn"
   ]
  },
  {
   "cell_type": "code",
   "execution_count": 14,
   "id": "17fd890f",
   "metadata": {},
   "outputs": [],
   "source": [
    "from sklearn.preprocessing import LabelEncoder\n",
    "le=LabelEncoder()\n",
    "df[\"company\"]=le.fit_transform(df[\"company\"])"
   ]
  },
  {
   "cell_type": "code",
   "execution_count": 15,
   "id": "30395b72",
   "metadata": {},
   "outputs": [
    {
     "data": {
      "text/html": [
       "<div>\n",
       "<style scoped>\n",
       "    .dataframe tbody tr th:only-of-type {\n",
       "        vertical-align: middle;\n",
       "    }\n",
       "\n",
       "    .dataframe tbody tr th {\n",
       "        vertical-align: top;\n",
       "    }\n",
       "\n",
       "    .dataframe thead th {\n",
       "        text-align: right;\n",
       "    }\n",
       "</style>\n",
       "<table border=\"1\" class=\"dataframe\">\n",
       "  <thead>\n",
       "    <tr style=\"text-align: right;\">\n",
       "      <th></th>\n",
       "      <th>company</th>\n",
       "      <th>total_layoffs</th>\n",
       "      <th>impacted_workforce_percentage</th>\n",
       "      <th>reported_date</th>\n",
       "      <th>industry</th>\n",
       "      <th>headquarter_location</th>\n",
       "      <th>sources</th>\n",
       "      <th>status</th>\n",
       "    </tr>\n",
       "  </thead>\n",
       "  <tbody>\n",
       "    <tr>\n",
       "      <th>0</th>\n",
       "      <td>35</td>\n",
       "      <td>20.0</td>\n",
       "      <td>2.0</td>\n",
       "      <td>12/9/2022</td>\n",
       "      <td>Fintech, payments</td>\n",
       "      <td>Leawood, KS</td>\n",
       "      <td>Kansas City Business Journal</td>\n",
       "      <td>Private</td>\n",
       "    </tr>\n",
       "    <tr>\n",
       "      <th>2</th>\n",
       "      <td>10</td>\n",
       "      <td>13.0</td>\n",
       "      <td>3.0</td>\n",
       "      <td>8/20/2022</td>\n",
       "      <td>Saas, analytics</td>\n",
       "      <td>Seattle</td>\n",
       "      <td>Geekwire</td>\n",
       "      <td>Private</td>\n",
       "    </tr>\n",
       "    <tr>\n",
       "      <th>3</th>\n",
       "      <td>3</td>\n",
       "      <td>20.0</td>\n",
       "      <td>3.0</td>\n",
       "      <td>1/18/2023</td>\n",
       "      <td>fintech, data analytics</td>\n",
       "      <td>Mountain View, CA</td>\n",
       "      <td>Fortune</td>\n",
       "      <td>Private</td>\n",
       "    </tr>\n",
       "    <tr>\n",
       "      <th>4</th>\n",
       "      <td>205</td>\n",
       "      <td>24.0</td>\n",
       "      <td>3.0</td>\n",
       "      <td>5/13/2022</td>\n",
       "      <td>Health Care</td>\n",
       "      <td>New York</td>\n",
       "      <td>Axios</td>\n",
       "      <td>Private</td>\n",
       "    </tr>\n",
       "    <tr>\n",
       "      <th>6</th>\n",
       "      <td>15</td>\n",
       "      <td>25.0</td>\n",
       "      <td>4.0</td>\n",
       "      <td>12/8/2022</td>\n",
       "      <td>Cybersecurity</td>\n",
       "      <td>San Francisco</td>\n",
       "      <td>Calcalistech</td>\n",
       "      <td>Private</td>\n",
       "    </tr>\n",
       "  </tbody>\n",
       "</table>\n",
       "</div>"
      ],
      "text/plain": [
       "   company  total_layoffs  impacted_workforce_percentage reported_date  \\\n",
       "0       35           20.0                            2.0     12/9/2022   \n",
       "2       10           13.0                            3.0     8/20/2022   \n",
       "3        3           20.0                            3.0     1/18/2023   \n",
       "4      205           24.0                            3.0     5/13/2022   \n",
       "6       15           25.0                            4.0     12/8/2022   \n",
       "\n",
       "                  industry headquarter_location                       sources  \\\n",
       "0        Fintech, payments          Leawood, KS  Kansas City Business Journal   \n",
       "2          Saas, analytics              Seattle                      Geekwire   \n",
       "3  fintech, data analytics    Mountain View, CA                       Fortune   \n",
       "4              Health Care             New York                         Axios   \n",
       "6            Cybersecurity        San Francisco                  Calcalistech   \n",
       "\n",
       "    status  \n",
       "0  Private  \n",
       "2  Private  \n",
       "3  Private  \n",
       "4  Private  \n",
       "6  Private  "
      ]
     },
     "execution_count": 15,
     "metadata": {},
     "output_type": "execute_result"
    }
   ],
   "source": [
    "df.head()"
   ]
  },
  {
   "cell_type": "code",
   "execution_count": 16,
   "id": "8b729064",
   "metadata": {},
   "outputs": [
    {
     "data": {
      "text/plain": [
       "array(['6sense', '8x8', 'Abra', 'Addepar', 'Advata', 'Airtable',\n",
       "       'Akili Interactive Labs', 'Albert', 'Amazon', 'Amdocs', 'Amperity',\n",
       "       'AppLovin', 'Aqua Security', 'Argo AI', 'Argyle', 'Armis Security',\n",
       "       'Asana', 'Astronomer', 'AtoB', 'Aura', 'Baton', 'Beachbody',\n",
       "       'Better.com', 'Bird', 'Bizzabo', 'BlackLine', 'Blend', 'BloomTech',\n",
       "       'Bolt', 'Bonterra', 'Brave Care', 'Brex', 'Bright Machines',\n",
       "       'Butler Hospitality', 'BuzzFeed', 'C2FO', 'Calm', 'Candy Digital',\n",
       "       'Canoo', 'Capitolis', 'Carbon Health', 'Carta', 'Celsius',\n",
       "       'Chargebee', 'Chime', 'Chipper Cash', 'Cisco', 'Clarify Health',\n",
       "       'Clear Capital', 'CoinDCX', 'Coinbase', 'ConsenSys', 'Convoy',\n",
       "       'Coterie Insurance', 'Coursera', 'Curology', 'CyCognito',\n",
       "       'Definitive Healthcare', 'Digital Currency Group', 'Divvy Homes',\n",
       "       'DoorDash', 'Dutchie', 'Edgio', 'Embroker', 'Emotive', 'Enjoy',\n",
       "       'EquityZen', 'Equitybee', 'Ethos Life', 'Everlane', 'Exodus', 'F5',\n",
       "       'Fabric', 'Faire', 'Fast', 'Flexport', 'Flipboard', 'Flyhomes',\n",
       "       'Food52', 'ForeScout Technologies', 'Foxtrot', 'Freshworks',\n",
       "       'Fundbox', 'Gemini', 'Genesis', 'GoFundMe', 'GoHealth', 'GoodRx',\n",
       "       'Greenlight', 'Groupon', 'Happy Money', 'Headspace Health',\n",
       "       'Hologram', 'Homeward', 'Homie', 'Hydrow', 'Hyperscience', 'IRL',\n",
       "       'Ideoclick', 'Informatica', 'Innovaccer', 'Integral Ad Science',\n",
       "       'Intercom', 'Intrinsic', 'Iron Ox', 'JOKR', 'Jam City',\n",
       "       'JumpCloud', 'Juul', 'Kabam', 'Kaltura', 'Khoros', 'Klarna',\n",
       "       'Komodo Health', 'Kraken', 'Lacework', 'Latch', 'Leafly',\n",
       "       'Lending Club', 'Lithic', 'Lokalise', 'Loom', 'Lusha', 'Lyft',\n",
       "       'MainStreet', 'Malwarebytes', 'MasterClass', 'Meta', 'Metromile',\n",
       "       'Motive', 'Nate', 'Nayya', 'New Relic', 'Next Insurance',\n",
       "       'Niantic', 'Notarize', 'Nutanix', 'Ocavu', 'On Deck', 'OneTrust',\n",
       "       'Opendoor', 'Outbrain', 'Outschool', 'OwnBackup', 'Pacaso',\n",
       "       'Parler', 'Patreon', 'PayPal', 'Pear Therapeutics', 'Personetics',\n",
       "       'Picsart', 'Plaid', 'Playtika', 'Pluralsight', 'Policygenius',\n",
       "       'Polly', 'Postscript', 'Project44', 'Protocol Media', 'Qumolo',\n",
       "       'Rasa', 'RealSelf', 'Reali', 'Recharge', 'Redesign Health',\n",
       "       'Redfin', 'Reef', 'Relativity', 'Remote', 'Replicated', 'Rhino',\n",
       "       'Rivian', 'Robinhood', 'Roku', 'Root Insurance',\n",
       "       'SQream Technologies', 'SafeGraph', 'Salsify', 'Section4', 'Sema4',\n",
       "       'Sendoso', 'Shelf Engine', 'Shopify', 'Similarweb', 'Skillz',\n",
       "       'Snap', 'Snappy', 'Snyk', 'Socure', 'Sourcepoint', 'Spin',\n",
       "       'Spotify', 'Stash Financial', 'StockX', 'Stord', 'Stream',\n",
       "       'Substack', 'SummerBio', 'SundaySky', 'Superhuman', 'TIFIN',\n",
       "       'Taboola', 'TechTarget', 'Teladoc Health', 'The Mom Project',\n",
       "       'Thirty Madison', 'Tipalti', 'Tomo', 'Tonal', 'Tonkean',\n",
       "       'TuSimple', 'Turntide', 'Twilio', 'Twitter', 'Udacity', 'Uniphore',\n",
       "       'Unity', 'Upstart', 'Varonis Systems', 'Veev', 'Verbit', 'Verily',\n",
       "       'Virgin Hyperloop', 'Vise', 'Vox Media', 'Vroom', 'WalkMe',\n",
       "       'WanderJaunt', 'Wonder', 'Woven', 'Yotpo', 'Zendesk',\n",
       "       'Zeus Living', 'Zillow', 'Zulily', 'Zumper', 'iRobot', 'nCino'],\n",
       "      dtype=object)"
      ]
     },
     "execution_count": 16,
     "metadata": {},
     "output_type": "execute_result"
    }
   ],
   "source": [
    "le.classes_"
   ]
  },
  {
   "cell_type": "code",
   "execution_count": 17,
   "id": "bd66a268",
   "metadata": {},
   "outputs": [],
   "source": [
    "df[\"company\"]=le.inverse_transform(df[\"company\"])"
   ]
  },
  {
   "cell_type": "code",
   "execution_count": 18,
   "id": "368e566a",
   "metadata": {},
   "outputs": [
    {
     "data": {
      "text/html": [
       "<div>\n",
       "<style scoped>\n",
       "    .dataframe tbody tr th:only-of-type {\n",
       "        vertical-align: middle;\n",
       "    }\n",
       "\n",
       "    .dataframe tbody tr th {\n",
       "        vertical-align: top;\n",
       "    }\n",
       "\n",
       "    .dataframe thead th {\n",
       "        text-align: right;\n",
       "    }\n",
       "</style>\n",
       "<table border=\"1\" class=\"dataframe\">\n",
       "  <thead>\n",
       "    <tr style=\"text-align: right;\">\n",
       "      <th></th>\n",
       "      <th>company</th>\n",
       "      <th>total_layoffs</th>\n",
       "      <th>impacted_workforce_percentage</th>\n",
       "      <th>reported_date</th>\n",
       "      <th>industry</th>\n",
       "      <th>headquarter_location</th>\n",
       "      <th>sources</th>\n",
       "      <th>status</th>\n",
       "    </tr>\n",
       "  </thead>\n",
       "  <tbody>\n",
       "    <tr>\n",
       "      <th>0</th>\n",
       "      <td>C2FO</td>\n",
       "      <td>20.0</td>\n",
       "      <td>2.0</td>\n",
       "      <td>12/9/2022</td>\n",
       "      <td>Fintech, payments</td>\n",
       "      <td>Leawood, KS</td>\n",
       "      <td>Kansas City Business Journal</td>\n",
       "      <td>Private</td>\n",
       "    </tr>\n",
       "    <tr>\n",
       "      <th>2</th>\n",
       "      <td>Amperity</td>\n",
       "      <td>13.0</td>\n",
       "      <td>3.0</td>\n",
       "      <td>8/20/2022</td>\n",
       "      <td>Saas, analytics</td>\n",
       "      <td>Seattle</td>\n",
       "      <td>Geekwire</td>\n",
       "      <td>Private</td>\n",
       "    </tr>\n",
       "    <tr>\n",
       "      <th>3</th>\n",
       "      <td>Addepar</td>\n",
       "      <td>20.0</td>\n",
       "      <td>3.0</td>\n",
       "      <td>1/18/2023</td>\n",
       "      <td>fintech, data analytics</td>\n",
       "      <td>Mountain View, CA</td>\n",
       "      <td>Fortune</td>\n",
       "      <td>Private</td>\n",
       "    </tr>\n",
       "    <tr>\n",
       "      <th>4</th>\n",
       "      <td>Thirty Madison</td>\n",
       "      <td>24.0</td>\n",
       "      <td>3.0</td>\n",
       "      <td>5/13/2022</td>\n",
       "      <td>Health Care</td>\n",
       "      <td>New York</td>\n",
       "      <td>Axios</td>\n",
       "      <td>Private</td>\n",
       "    </tr>\n",
       "    <tr>\n",
       "      <th>6</th>\n",
       "      <td>Armis Security</td>\n",
       "      <td>25.0</td>\n",
       "      <td>4.0</td>\n",
       "      <td>12/8/2022</td>\n",
       "      <td>Cybersecurity</td>\n",
       "      <td>San Francisco</td>\n",
       "      <td>Calcalistech</td>\n",
       "      <td>Private</td>\n",
       "    </tr>\n",
       "  </tbody>\n",
       "</table>\n",
       "</div>"
      ],
      "text/plain": [
       "          company  total_layoffs  impacted_workforce_percentage reported_date  \\\n",
       "0            C2FO           20.0                            2.0     12/9/2022   \n",
       "2        Amperity           13.0                            3.0     8/20/2022   \n",
       "3         Addepar           20.0                            3.0     1/18/2023   \n",
       "4  Thirty Madison           24.0                            3.0     5/13/2022   \n",
       "6  Armis Security           25.0                            4.0     12/8/2022   \n",
       "\n",
       "                  industry headquarter_location                       sources  \\\n",
       "0        Fintech, payments          Leawood, KS  Kansas City Business Journal   \n",
       "2          Saas, analytics              Seattle                      Geekwire   \n",
       "3  fintech, data analytics    Mountain View, CA                       Fortune   \n",
       "4              Health Care             New York                         Axios   \n",
       "6            Cybersecurity        San Francisco                  Calcalistech   \n",
       "\n",
       "    status  \n",
       "0  Private  \n",
       "2  Private  \n",
       "3  Private  \n",
       "4  Private  \n",
       "6  Private  "
      ]
     },
     "execution_count": 18,
     "metadata": {},
     "output_type": "execute_result"
    }
   ],
   "source": [
    "df.head()"
   ]
  },
  {
   "cell_type": "code",
   "execution_count": 19,
   "id": "9de923eb",
   "metadata": {},
   "outputs": [],
   "source": [
    "cp=df.groupby(\"company\")"
   ]
  },
  {
   "cell_type": "code",
   "execution_count": 38,
   "id": "5c14e29c",
   "metadata": {},
   "outputs": [],
   "source": [
    "sm=cp[\"total_layoffs\"].sum()"
   ]
  },
  {
   "cell_type": "code",
   "execution_count": 39,
   "id": "bea750f4",
   "metadata": {},
   "outputs": [
    {
     "data": {
      "text/plain": [
       "<AxesSubplot:>"
      ]
     },
     "execution_count": 39,
     "metadata": {},
     "output_type": "execute_result"
    },
    {
     "data": {
      "image/png": "[encoded data removed]",
      "text/plain": [
       "<Figure size 640x480 with 1 Axes>"
      ]
     },
     "metadata": {},
     "output_type": "display_data"
    }
   ],
   "source": []
  },
  {
   "cell_type": "code",
   "execution_count": 29,
   "id": "4d750276",
   "metadata": {},
   "outputs": [
    {
     "ename": "AttributeError",
     "evalue": "module 'seaborn' has no attribute 'plot'",
     "output_type": "error",
     "traceback": [
      "\u001b[1;31m---------------------------------------------------------------------------\u001b[0m",
      "\u001b[1;31mAttributeError\u001b[0m                            Traceback (most recent call last)",
      "\u001b[1;32m~\\AppData\\Local\\Temp\\ipykernel_18944\\1325696092.py\u001b[0m in \u001b[0;36m<module>\u001b[1;34m\u001b[0m\n\u001b[0;32m      1\u001b[0m \u001b[0mget_ipython\u001b[0m\u001b[1;33m(\u001b[0m\u001b[1;33m)\u001b[0m\u001b[1;33m.\u001b[0m\u001b[0mrun_line_magic\u001b[0m\u001b[1;33m(\u001b[0m\u001b[1;34m'matplotlib'\u001b[0m\u001b[1;33m,\u001b[0m \u001b[1;34m'inline'\u001b[0m\u001b[1;33m)\u001b[0m\u001b[1;33m\u001b[0m\u001b[1;33m\u001b[0m\u001b[0m\n\u001b[1;32m----> 2\u001b[1;33m \u001b[0msns\u001b[0m\u001b[1;33m.\u001b[0m\u001b[0mplot\u001b[0m\u001b[1;33m(\u001b[0m\u001b[0mx\u001b[0m\u001b[1;33m=\u001b[0m\u001b[0mdf\u001b[0m\u001b[1;33m[\u001b[0m\u001b[1;34m\"company\"\u001b[0m\u001b[1;33m]\u001b[0m\u001b[1;33m,\u001b[0m\u001b[0my\u001b[0m\u001b[1;33m=\u001b[0m\u001b[0mdf\u001b[0m\u001b[1;33m[\u001b[0m\u001b[1;34m\"total_layoffs\"\u001b[0m\u001b[1;33m]\u001b[0m\u001b[1;33m,\u001b[0m\u001b[0mhue\u001b[0m\u001b[1;33m=\u001b[0m\u001b[0mdf\u001b[0m\u001b[1;33m[\u001b[0m\u001b[1;34m\"industry\"\u001b[0m\u001b[1;33m]\u001b[0m\u001b[1;33m)\u001b[0m\u001b[1;33m\u001b[0m\u001b[1;33m\u001b[0m\u001b[0m\n\u001b[0m",
      "\u001b[1;31mAttributeError\u001b[0m: module 'seaborn' has no attribute 'plot'"
     ]
    }
   ],
   "source": [
    "%matplotlib inline\n",
    "sns.plot(x=df[\"company\"],y=df[\"total_layoffs\"],hue=df[\"industry\"])"
   ]
  },
  {
   "cell_type": "code",
   "execution_count": 22,
   "id": "1f4ba93b",
   "metadata": {},
   "outputs": [],
   "source": [
    "import seaborn as sns\n",
    "import matplotlib as plt"
   ]
  },
  {
   "cell_type": "code",
   "execution_count": null,
   "id": "e0b9ab86",
   "metadata": {},
   "outputs": [],
   "source": [
    "df.shape"
   ]
  },
  {
   "cell_type": "code",
   "execution_count": 34,
   "id": "4e078f28",
   "metadata": {
    "scrolled": true
   },
   "outputs": [
    {
     "data": {
      "text/plain": [
       "array(['Fintech, payments', 'Saas, analytics', 'fintech, data analytics',\n",
       "       'Health Care', 'Cybersecurity', 'food and beverage, e-commerce',\n",
       "       'telehealth, wellness', 'Beauty tech',\n",
       "       'productivity, enterprise software', 'Crypto', 'Transportation',\n",
       "       'Food delivery, ecommerce', 'Logistics',\n",
       "       'Blockchain, cryptocurrency', 'Media, E-commerce',\n",
       "       'enterprise software, productivity', 'InsurTech', 'video games',\n",
       "       'Fintech', 'E-commerce, retail',\n",
       "       'Cloud Infrastructure, health care', 'E-commerce', 'FinTech',\n",
       "       'Fintech, analytics', 'Robotics', 'fintech, personal finance',\n",
       "       'Cannabis', 'Video Games, AR', 'Media/entertainment', 'HR Tech',\n",
       "       'Digital media, journalism', 'marketing, media',\n",
       "       'Health care, predictive analytics', 'SaaS, enterprise software',\n",
       "       'social impact, finance', 'Fintech, SaaS',\n",
       "       'Artificial Intelligence, Machine Learning',\n",
       "       'Data science, enterprise', 'Sales tech', 'SecOps, security',\n",
       "       'Natural Language Processing', 'Cryptocurrency, FinTech',\n",
       "       'Cloud computing, e-commerce', 'Cloud services, cybersecurity',\n",
       "       'PropTech', 'Crowdfunding', 'Cryptocurrency',\n",
       "       'customer service, automation', 'Video Conferencing Software',\n",
       "       'fintech, money transfer', 'edtech, artificial intelligence',\n",
       "       'Privacy Tech, Marketing Tech', 'Marketing Automation',\n",
       "       'security, enterprise software', 'Media, Content Creators',\n",
       "       'Employee Benefits, HR Tech', 'health care, data collection',\n",
       "       'Insurtech, fintech', 'Artificial intelligence, recruiting',\n",
       "       'Talent marketplace', 'Communications Infrastructure',\n",
       "       'Mobile Apps, Gaming', 'Fashion, e-commerce', 'Social media',\n",
       "       'Data Analytics', 'SMS Marketing',\n",
       "       'cybsersecurity, predictive analytics',\n",
       "       'Marketing Tech, SMS Marketing', 'Data storage',\n",
       "       'Real Estate, PropTech', 'CleanTech, energy', 'Edtech',\n",
       "       'robotics, AI', 'PropTech, InsurTech', 'shipping and logistics',\n",
       "       'health care', 'Data analytics, cloud services',\n",
       "       'personal health, wellness', 'Fintech, banking', 'News',\n",
       "       'health care, analytics', 'Email Software',\n",
       "       'Cryptocurrency, blockchain', 'Software', 'Saas, APIs',\n",
       "       'Enterprise Communication', 'AI', 'Transporation, Logistics',\n",
       "       'Social Media', 'Business development', 'EdTech',\n",
       "       'Food Tech, Software, Grocery Tech',\n",
       "       'social impact, company benefits', 'Identity verification',\n",
       "       'Pediatrics, telehealth', 'FinTech, PropTech',\n",
       "       'Enterprise Software', 'IoT', 'Fitness', 'E-commerce, Logistics',\n",
       "       'Artificial Intelligence', 'Home decor, PropTech', 'Transporation',\n",
       "       'Legal Tech', 'AgTech, food and beverage', 'Virtual Event',\n",
       "       'Artificial intelligence, machine learning', 'Hospitality',\n",
       "       'Health Care, Diagnostics', 'News, media', 'PropTech, Real Estate',\n",
       "       'CRM, IT', 'Digital Marketing', 'edtech, product management',\n",
       "       'CRM, enterprise software', 'data center, enterprise software',\n",
       "       'E-commerce, SaaS', 'Enterprise software, customer service',\n",
       "       'enterprise software, SaaS', 'Marketing', 'Content marketing',\n",
       "       'Music', 'Smart Home, Security', 'health care, telehealth',\n",
       "       'Health care, analytics', 'electric vehicle, transportation',\n",
       "       'Fintech, software', 'telecommunications, enterprise software',\n",
       "       'media, streaming', 'Big data, cloud computing', 'Video Games',\n",
       "       'collaboration, enterprise software', 'Software, Biotech',\n",
       "       'cybersecurity, cloud services', 'AI, analytics',\n",
       "       'artificial intelligence, robotics', 'Esports/Video Games',\n",
       "       'Developer APIs, enterprise software', 'Media, news',\n",
       "       'Mobile Apps, Developer Tools', 'Cloud computing, web hosting',\n",
       "       'ecommerce, retail', 'Health care, pharmaceuticals',\n",
       "       'E-commerce, Delivery', 'Proptech', 'EdTech, IT',\n",
       "       'Insurtech, transportation', 'health care, health insurance',\n",
       "       'consumer goods, vape pens', 'Health care', 'Gaming',\n",
       "       'Auto, E-commerce', 'AI, health care'], dtype=object)"
      ]
     },
     "execution_count": 34,
     "metadata": {},
     "output_type": "execute_result"
    }
   ],
   "source": [
    "df[\"industry\"].unique()"
   ]
  },
  {
   "cell_type": "code",
   "execution_count": 33,
   "id": "9af41864",
   "metadata": {
    "scrolled": true
   },
   "outputs": [
    {
     "data": {
      "text/plain": [
       "<AxesSubplot:xlabel='industry', ylabel='total_layoffs'>"
      ]
     },
     "execution_count": 33,
     "metadata": {},
     "output_type": "execute_result"
    },
    {
     "data": {
      "image/png": "[encoded data removed]",
      "text/plain": [
       "<Figure size 640x480 with 1 Axes>"
      ]
     },
     "metadata": {},
     "output_type": "display_data"
    }
   ],
   "source": [
    "sns.barplot(x=df[\"industry\"],y=df[\"total_layoffs\"])"
   ]
  },
  {
   "cell_type": "code",
   "execution_count": 25,
   "id": "a9681635",
   "metadata": {},
   "outputs": [
    {
     "data": {
      "text/plain": [
       "<seaborn.axisgrid.PairGrid at 0x16f3c981190>"
      ]
     },
     "execution_count": 25,
     "metadata": {},
     "output_type": "execute_result"
    },
    {
     "data": {
      "image/png": "[encoded data removed]",
      "text/plain": [
       "<Figure size 250x250 with 2 Axes>"
      ]
     },
     "metadata": {},
     "output_type": "display_data"
    }
   ],
   "source": [
    "sns.pairplot(data=df[[\"company\",\"total_layoffs\",\"industry\"]])"
   ]
  },
  {
   "cell_type": "code",
   "execution_count": 28,
   "id": "4cdcb06e",
   "metadata": {},
   "outputs": [
    {
     "data": {
      "text/plain": [
       "array([[<AxesSubplot:title={'center':'total_layoffs'}>,\n",
       "        <AxesSubplot:title={'center':'impacted_workforce_percentage'}>]],\n",
       "      dtype=object)"
      ]
     },
     "execution_count": 28,
     "metadata": {},
     "output_type": "execute_result"
    },
    {
     "data": {
      "image/png": "[encoded data removed]",
      "text/plain": [
       "<Figure size 640x480 with 2 Axes>"
      ]
     },
     "metadata": {},
     "output_type": "display_data"
    }
   ],
   "source": [
    "df.hist()"
   ]
  },
  {
   "cell_type": "code",
   "execution_count": 40,
   "id": "9d166a16",
   "metadata": {},
   "outputs": [],
   "source": [
    "import matplotlib.pyplot as plt"
   ]
  },
  {
   "cell_type": "code",
   "execution_count": 43,
   "id": "888da77f",
   "metadata": {},
   "outputs": [
    {
     "data": {
      "text/plain": [
       "<matplotlib.collections.PathCollection at 0x16f5534fa00>"
      ]
     },
     "execution_count": 43,
     "metadata": {},
     "output_type": "execute_result"
    },
    {
     "data": {
      "image/png": "[encoded data removed]",
      "text/plain": [
       "<Figure size 640x480 with 1 Axes>"
      ]
     },
     "metadata": {},
     "output_type": "display_data"
    }
   ],
   "source": [
    "plt.scatter(x=df[\"industry\"],y=df[\"total_layoffs\"])"
   ]
  },
  {
   "cell_type": "code",
   "execution_count": 44,
   "id": "31a1a126",
   "metadata": {},
   "outputs": [],
   "source": [
    "df=pd.read_csv(\"C:/Users/anamikmishra/Downloads/dog.csv\")"
   ]
  },
  {
   "cell_type": "code",
   "execution_count": 45,
   "id": "c1960fe3",
   "metadata": {},
   "outputs": [
    {
     "data": {
      "text/html": [
       "<div>\n",
       "<style scoped>\n",
       "    .dataframe tbody tr th:only-of-type {\n",
       "        vertical-align: middle;\n",
       "    }\n",
       "\n",
       "    .dataframe tbody tr th {\n",
       "        vertical-align: top;\n",
       "    }\n",
       "\n",
       "    .dataframe thead th {\n",
       "        text-align: right;\n",
       "    }\n",
       "</style>\n",
       "<table border=\"1\" class=\"dataframe\">\n",
       "  <thead>\n",
       "    <tr style=\"text-align: right;\">\n",
       "      <th></th>\n",
       "      <th>Year</th>\n",
       "      <th>Club</th>\n",
       "      <th>Position</th>\n",
       "      <th>Breed</th>\n",
       "      <th>Registrations</th>\n",
       "    </tr>\n",
       "  </thead>\n",
       "  <tbody>\n",
       "    <tr>\n",
       "      <th>0</th>\n",
       "      <td>2006</td>\n",
       "      <td>UK Kennel Club</td>\n",
       "      <td>1</td>\n",
       "      <td>Labrador Retriever</td>\n",
       "      <td>45.7</td>\n",
       "    </tr>\n",
       "    <tr>\n",
       "      <th>1</th>\n",
       "      <td>2006</td>\n",
       "      <td>UK Kennel Club</td>\n",
       "      <td>2</td>\n",
       "      <td>English Cocker Spaniel</td>\n",
       "      <td>20.459</td>\n",
       "    </tr>\n",
       "    <tr>\n",
       "      <th>2</th>\n",
       "      <td>2006</td>\n",
       "      <td>UK Kennel Club</td>\n",
       "      <td>3</td>\n",
       "      <td>English Springer Spaniel</td>\n",
       "      <td>15.133</td>\n",
       "    </tr>\n",
       "    <tr>\n",
       "      <th>3</th>\n",
       "      <td>2006</td>\n",
       "      <td>UK Kennel Club</td>\n",
       "      <td>4</td>\n",
       "      <td>German Shepherd</td>\n",
       "      <td>12.857</td>\n",
       "    </tr>\n",
       "    <tr>\n",
       "      <th>4</th>\n",
       "      <td>2006</td>\n",
       "      <td>UK Kennel Club</td>\n",
       "      <td>5</td>\n",
       "      <td>Staffordshire Bull Terrier</td>\n",
       "      <td>12.729</td>\n",
       "    </tr>\n",
       "  </tbody>\n",
       "</table>\n",
       "</div>"
      ],
      "text/plain": [
       "   Year           Club   Position                       Breed Registrations\n",
       "0  2006  UK Kennel Club         1          Labrador Retriever          45.7\n",
       "1  2006  UK Kennel Club         2      English Cocker Spaniel        20.459\n",
       "2  2006  UK Kennel Club         3    English Springer Spaniel        15.133\n",
       "3  2006  UK Kennel Club         4             German Shepherd        12.857\n",
       "4  2006  UK Kennel Club         5  Staffordshire Bull Terrier        12.729"
      ]
     },
     "execution_count": 45,
     "metadata": {},
     "output_type": "execute_result"
    }
   ],
   "source": [
    "df.head()"
   ]
  },
  {
   "cell_type": "code",
   "execution_count": 65,
   "id": "336db95e",
   "metadata": {},
   "outputs": [],
   "source": [
    "df1=df.groupby(\"Breed\")"
   ]
  },
  {
   "cell_type": "code",
   "execution_count": null,
   "id": "78e72ae5",
   "metadata": {},
   "outputs": [],
   "source": []
  },
  {
   "cell_type": "code",
   "execution_count": 66,
   "id": "72ba4ca8",
   "metadata": {},
   "outputs": [
    {
     "data": {
      "text/plain": [
       "Breed\n",
       "Beagle                                                      39.484--53.938\n",
       "Beagles                                                                  -\n",
       "Bernese Mountain Dog                                      1.3031.25420.423\n",
       "Border Collie                                                  1.97823.262\n",
       "Border Terrier                                                  8.9169.145\n",
       "Boxer                                   9.06635.3881.677-7.353-1.54-52.983\n",
       "Brittany                                                                 -\n",
       "Brittany Spaniel                                                    19.828\n",
       "Bulldog                                                            -44.325\n",
       "Bulldogs                                                                 -\n",
       "Cavalier King Charles Spaniel                       11.4112.98711.22639.67\n",
       "Chihuahua                                                          107.114\n",
       "Dachshund                                                         36.033--\n",
       "Dachshund (all varieties)                                           81.516\n",
       "Dalmatian                                                            1.452\n",
       "Dobermann                                                           20.941\n",
       "English Bulldog                                                          -\n",
       "English Cocker Spaniel                             20.4591.47322.50840.174\n",
       "English Setter                                                     -29.771\n",
       "English Springer Spaniel                                 15.13314.89928.05\n",
       "French Bulldog                                                      39.337\n",
       "French Bulldogs                                                          -\n",
       "German Shepherd                      12.85743.5755.062-4.19411.903-4.429--\n",
       "German Shepherd Dog                                                129.186\n",
       "German Shorthaired Pointer                                        -23.855-\n",
       "German Spitz (all sizes)                                             40.53\n",
       "Golden Retriever                 9.37342.9625.647-2.8739.159-5.386-92.994-\n",
       "Great Dane                                                          20.001\n",
       "Jack Russell Terrier                                                     -\n",
       "Labrador Retriever               45.7123.768.881-4.49145.233-8.71-191.988-\n",
       "Maltese                                                             28.909\n",
       "Miniature Schnauzer                                  22.921.6791.36345.263\n",
       "Pembroke Welsh Corgi                                                     -\n",
       "Poodle                                                  29.9392.839--2.618\n",
       "Poodles                                                                  -\n",
       "Poodle (All sizes)                                                 118.653\n",
       "Pug                                                            1.57133.528\n",
       "Rottweiler                                                     1.31731.447\n",
       "Rottweilers                                                              -\n",
       "Segugio Italiano a Pelo Raso                                             -\n",
       "Segugio Maremmano                                                        -\n",
       "Shetland Sheepdog                                         2.4772.28222.805\n",
       "Shih Tzu                                          27.2821.431--1.24544.564\n",
       "Staffordshire Bull Terrier                         12.7293.99610.74423.562\n",
       "West Highland White Terrier                                  9.37.3320.904\n",
       "Yorkshire Terrier                                 48.3462.441--2.20992.438\n",
       "Name: Registrations, dtype: object"
      ]
     },
     "execution_count": 66,
     "metadata": {},
     "output_type": "execute_result"
    }
   ],
   "source": [
    "df1[\"Registrations\"].sum()"
   ]
  },
  {
   "cell_type": "code",
   "execution_count": 68,
   "id": "4882bf83",
   "metadata": {},
   "outputs": [
    {
     "name": "stdout",
     "output_type": "stream",
     "text": [
      "<class 'pandas.core.frame.DataFrame'>\n",
      "RangeIndex: 130 entries, 0 to 129\n",
      "Data columns (total 5 columns):\n",
      " #   Column         Non-Null Count  Dtype \n",
      "---  ------         --------------  ----- \n",
      " 0   Year           130 non-null    int64 \n",
      " 1   Club           130 non-null    object\n",
      " 2   Position       130 non-null    int64 \n",
      " 3   Breed          130 non-null    object\n",
      " 4   Registrations  130 non-null    object\n",
      "dtypes: int64(2), object(3)\n",
      "memory usage: 5.2+ KB\n"
     ]
    }
   ],
   "source": [
    "df.info()"
   ]
  },
  {
   "cell_type": "code",
   "execution_count": null,
   "id": "6b54ec0b",
   "metadata": {},
   "outputs": [],
   "source": []
  }
 ],
 "metadata": {
  "kernelspec": {
   "display_name": "Python 3 (ipykernel)",
   "language": "python",
   "name": "python3"
  },
  "language_info": {
   "codemirror_mode": {
    "name": "ipython",
    "version": 3
   },
   "file_extension": ".py",
   "mimetype": "text/x-python",
   "name": "python",
   "nbconvert_exporter": "python",
   "pygments_lexer": "ipython3",
   "version": "3.9.13"
  }
 },
 "nbformat": 4,
 "nbformat_minor": 5
}
