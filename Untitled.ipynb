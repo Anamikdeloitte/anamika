{
 "cells": [
  {
   "cell_type": "code",
   "execution_count": 24,
   "id": "601f5d5d",
   "metadata": {},
   "outputs": [
    {
     "name": "stdout",
     "output_type": "stream",
     "text": [
      "Jessa 20 School: ABC School\n",
      "Jessa 20 School: XYZ School\n"
     ]
    }
   ],
   "source": [
    "class Student:\n",
    "    school_name = 'ABC School'\n",
    "\n",
    "    def __init__(self, name, age):\n",
    "        self.name = name\n",
    "        self.age = age\n",
    "    \n",
    "    @classmethod\n",
    "    def change_school(cls, school_name):\n",
    "        # class_name.class_variable\n",
    "        cls.school_name = school_name\n",
    "        \n",
    "\n",
    "    # instance method\n",
    "    def show(self):\n",
    "        print(self.name, self.age, 'School:', Student.school_name)\n",
    "\n",
    "        \n",
    "jessa = Student('Jessa', 20)\n",
    "jessa.show()\n",
    "\n",
    "# change school_name\n",
    "Student.change_school('XYZ School')\n",
    "jessa.show()\n",
    "\n",
    "\n"
   ]
  },
  {
   "cell_type": "code",
   "execution_count": null,
   "id": "0d646659",
   "metadata": {},
   "outputs": [],
   "source": []
  }
 ],
 "metadata": {
  "kernelspec": {
   "display_name": "Python 3 (ipykernel)",
   "language": "python",
   "name": "python3"
  },
  "language_info": {
   "codemirror_mode": {
    "name": "ipython",
    "version": 3
   },
   "file_extension": ".py",
   "mimetype": "text/x-python",
   "name": "python",
   "nbconvert_exporter": "python",
   "pygments_lexer": "ipython3",
   "version": "3.9.13"
  }
 },
 "nbformat": 4,
 "nbformat_minor": 5
}
